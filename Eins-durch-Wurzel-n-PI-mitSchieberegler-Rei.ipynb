{
 "cells": [
  {
   "cell_type": "code",
   "execution_count": 5,
   "id": "a563836c-91e7-43f1-b275-dd926faa491d",
   "metadata": {},
   "outputs": [
    {
     "data": {
      "application/vnd.jupyter.widget-view+json": {
       "model_id": "ad5c4db027a940fbad48f20d3b970953",
       "version_major": 2,
       "version_minor": 0
      },
      "text/plain": [
       "interactive(children=(IntSlider(value=400, description='n', max=1000, min=10, step=10), FloatSlider(value=0.5,…"
      ]
     },
     "metadata": {},
     "output_type": "display_data"
    },
    {
     "data": {
      "text/plain": [
       "<function __main__.relative_frequency_simulation(n, p, w, dx)>"
      ]
     },
     "execution_count": 5,
     "metadata": {},
     "output_type": "execute_result"
    }
   ],
   "source": [
    "import numpy as np\n",
    "import matplotlib.pyplot as plt\n",
    "from ipywidgets import interact, IntSlider, FloatSlider\n",
    "\n",
    "def relative_frequency_simulation(n, p, w, dx):\n",
    "    # Zufallsversuche mit Binomialverteilung\n",
    "    trials = np.random.binomial(1, p, n)\n",
    "    cumulative_frequencies = np.cumsum(trials) / np.arange(1, n + 1)\n",
    "    \n",
    "    x = np.arange(1, n + 1)\n",
    "    bound = 1.96 * np.sqrt(p * (1 - p) / x)\n",
    "    \n",
    "    # Erstellen der Grafik\n",
    "    plt.figure(figsize=(12, 8))\n",
    "    \n",
    "    # Erwartungswert-Linie und Konfidenzintervalle\n",
    "    plt.axhline(y=p, color='red', linestyle='--', label=f'p = {p}')\n",
    "    plt.plot(x, p + bound, 'orange', linestyle='--', label=r'$p \\pm 1.96 \\sqrt{\\frac{p (1-p)}{n}}$')\n",
    "    plt.plot(x, p - bound, 'orange', linestyle='--')\n",
    "    \n",
    "    # Achsentitel und allgemeine Einstellungen\n",
    "    plt.xlabel('Stichprobenumfang n', fontsize=14)\n",
    "    plt.ylabel('Relative Häufigkeit', fontsize=14)\n",
    "    plt.title(r'Das $\\frac{1}{\\sqrt{n}}$-Gesetz der großen Zahlen', fontsize=14)\n",
    "    plt.xlim(0, 1.1 * n)\n",
    "    plt.ylim(-0.1, 1.1)\n",
    "    plt.legend(fontsize=12)\n",
    "    plt.grid()\n",
    "    \n",
    "    # Stichproben für Boxplots und Punktwolken\n",
    "    sample_points = [n, n // 4, n // 16]\n",
    "    colors = ['blue', 'green', 'purple']\n",
    "    \n",
    "    for idx, point in enumerate(sample_points):\n",
    "        simulated_values = np.random.binomial(point, p, w) / point\n",
    "        values, counts = np.unique(simulated_values, return_counts=True)\n",
    "        \n",
    "        # Boxplot\n",
    "        plt.boxplot(simulated_values, positions=[point], widths=10, patch_artist=True, \n",
    "                    whis=[2.5, 97.5], boxprops=dict(facecolor=colors[idx], alpha=0.3))\n",
    "        \n",
    "        # Punktwolke\n",
    "        if dx >= 0:\n",
    "            for value, count in zip(values, counts):\n",
    "                x_positions = [point + i * dx for i in range(count)]\n",
    "                plt.scatter(x_positions, [value] * count, s=10, alpha=0.5, color=colors[idx])\n",
    "        \n",
    "        # Beschriftung der Intervalle\n",
    "        in_interval = np.sum((simulated_values >= p - 2 * np.sqrt(p * (1 - p) / point)) &\n",
    "                             (simulated_values <= p + 2 * np.sqrt(p * (1 - p) / point)))\n",
    "        plt.text(point, p + 5 * np.sqrt(p * (1 - p) / point),\n",
    "                 f'{in_interval} von {w} innerhalb des Intervalls', ha='center',\n",
    "                 fontsize=10, bbox=dict(facecolor='white', alpha=0.5))\n",
    "    \n",
    "    plt.show()\n",
    "\n",
    "# Interaktive Steuerung mit ipywidgets\n",
    "interact(relative_frequency_simulation, \n",
    "         n=IntSlider(min=10, max=1000, step=10, value=400, description='n'),\n",
    "         p=FloatSlider(min=0.1, max=0.9, step=0.05, value=0.5, description='p'),\n",
    "         w=IntSlider(min=10, max=1000, step=10, value=100, description='w'),\n",
    "         dx=IntSlider(min=-1, max=50, step=1, value=0, description='dx'))\n"
   ]
  },
  {
   "cell_type": "markdown",
   "id": "aad0b04b-318d-46c3-b775-33f55d705fc6",
   "metadata": {
    "tags": []
   },
   "source": [
    "# Das $1/\\sqrt{n}$-Gesetz der großen Zahlen\n",
    "\n",
    "## Einleitung\n",
    "Dieses Programm veranschaulicht das **1/sqrt(n)-Gesetz der großen Zahlen**. Es zeigt, wie sich die relative Häufigkeit eines binären Zufallsexperiments mit wachsendem Stichprobenumfang $n$ stabilisiert und innerhalb eines Prognoseintervalls bleibt.\n",
    "\n",
    "Das Programm verwendet **Binomialverteilungen**, um Stichproben zu simulieren, und stellt diese grafisch dar.\n",
    "\n",
    "## Theoretischer Hintergrund\n",
    "Das **Gesetz der großen Zahlen** besagt, dass die relative Häufigkeit eines Ereignisses mit zunehmender Anzahl von Versuchen gegen die tatsächliche Wahrscheinlichkeit konvergiert.\n",
    "\n",
    "Zusätzlich beschreibt das **1/sqrt(n)-Gesetz**, dass die Schwankungen der relativen Häufigkeit um den wahren Wert $p$ in erster Näherung proportional zu $1/\\sqrt{n}$ abnehmen:\n",
    "\n",
    "$$\n",
    "P \\left( \\left| \\frac{X_n}{n} - p \\right| \\leq \\frac{c}{\\sqrt{n}} \\right) \\to 1 \\text{ für } n \\to \\infty\n",
    "$$\n",
    "\n",
    "Hierbei gibt das Programm ein **95%-Prognoseintervall** an:\n",
    "$$\n",
    "p \\pm 1.96 \\sqrt{\\frac{p(1-p)}{n}}\n",
    "$$\n",
    "\n",
    "## Funktionsweise des Programms\n",
    "### 1. Simulation von Zufallsexperimenten\n",
    "- Ein binäres Zufallsexperiment (Bernoulli-Experiment) mit Wahrscheinlichkeit $p$ wird $n$-mal wiederholt.\n",
    "- Die kumulative relative Häufigkeit der Erfolge wird berechnet.\n",
    "\n",
    "### 2. Grafische Darstellung\n",
    "- **Rote gestrichelte Linie:** Wahre Wahrscheinlichkeit $p$\n",
    "- **Orange Linien:** Prognoseintervalle $p \\pm 1.96 \\sqrt{\\frac{p(1-p)}{n}}$\n",
    "- **Boxplots und Punktwolken:** Veranschaulichung der Verteilungen für verschiedene Stichprobenumfänge\n",
    "\n",
    "### 3. Interaktive Parametersteuerung\n",
    "Über **ipywidgets** lassen sich folgende Parameter einstellen:\n",
    "- **$n$**: Stichprobenumfang\n",
    "- **$p$**: Wahrscheinlichkeit des Erfolgs\n",
    "- **$w$**: Anzahl der Wiederholungen für die Boxplots\n",
    "- **$dx$**: Streuung der Punkte in der Punktwolke\n",
    "\n",
    "## Interpretation der Ergebnisse\n",
    "Mit zunehmendem Stichprobenumfang $n$ wird die relative Häufigkeit immer stabiler um $p$, während die Schwankungen gemäß $1/\\sqrt{n}$ abnehmen. Dies illustriert anschaulich das **Gesetz der großen Zahlen** und seine praktische Bedeutung.\n",
    "\n"
   ]
  },
  {
   "cell_type": "code",
   "execution_count": null,
   "id": "63881633-e556-4e70-9b9a-305a6eceb9db",
   "metadata": {},
   "outputs": [],
   "source": []
  }
 ],
 "metadata": {
  "kernelspec": {
   "display_name": "Python 3 (ipykernel)",
   "language": "python",
   "name": "python3"
  },
  "language_info": {
   "codemirror_mode": {
    "name": "ipython",
    "version": 3
   },
   "file_extension": ".py",
   "mimetype": "text/x-python",
   "name": "python",
   "nbconvert_exporter": "python",
   "pygments_lexer": "ipython3",
   "version": "3.9.7"
  }
 },
 "nbformat": 4,
 "nbformat_minor": 5
}
