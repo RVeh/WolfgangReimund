{
 "cells": [
  {
   "cell_type": "markdown",
   "id": "a5dc62ea",
   "metadata": {
    "tags": []
   },
   "source": [
    "# 🚀 Vorlage für interaktive Simulationen mit Jupyter Notebook\n",
    "\n",
    "Diese Vorlage enthält alle notwendigen Komponenten für interaktive Simulationen mit Schiebereglern, einem Button zur Neuberechnung sowie ein Kontrollkästchen. Fügen Sie einfach Ihre eigene Simulation in die dafür vorgesehene Funktion ein!\n",
    "\n",
    "## 📌 Wichtiger Hinweis:\n",
    "Bevor Sie mit der Simulation beginnen, klicken Sie bitte auf:\n",
    "**🔄 Restart Kernel and Run All Cells** (in der Jupyter-Werkzeugleiste oben). Dies sorgt dafür, dass alle interaktiven Elemente korrekt funktionieren.\n",
    "\n",
    "Je nach Betriebssystem kann das Symbol unterschiedlich aussehen:\n",
    "- macOS: Zwei Dreiecke ähnlich dem Schnellvorlauf-Button ⏩\n",
    "- Andere Systeme: Zwei kreisförmige Pfeile 🔄\n",
    "\n",
    "> 📍 **Warum?** Dadurch wird sichergestellt, dass alle Zellen in der richtigen Reihenfolge ausgeführt werden und die interaktiven Elemente korrekt funktionieren.\n",
    "---\n",
    "\n",
    "## 🛠 Anforderungen (falls die Datei lokal genutzt wird)\n",
    "\n",
    "Falls Sie das Notebook direkt auf Ihrem Rechner ausführen möchten, benötigen Sie:\n",
    "\n",
    "- **Python 3.7 oder höher**\n",
    "- **Jupyter Notebook** (oder JupyterLab)\n",
    "- **Notwendige Python-Pakete**, die im `requirements.txt` aufgeführt sind:\n",
    "  - `numpy`\n",
    "  - `matplotlib`\n",
    "  - `scipy`\n",
    "  - `ipywidgets`\n",
    "  - `ipython`\n",
    "  - `notebook`\n",
    "\n",
    "### Installation der Pakete:\n",
    "Nutzen Sie den folgenden Befehl, um alle notwendigen Pakete zu installieren:\n",
    "\n",
    "```bash\n",
    "pip install -r requirements.txt\n",
    "```\n",
    "\n",
    "Falls Sie die Datei **direkt über Binder** nutzen, müssen Sie keine zusätzliche Software installieren.\n",
    "\n",
    "---\n",
    "## 📜 Lizenz\n",
    "Dieses Projekt steht unter der [MIT-Lizenz](LICENSE).\n",
    "\n",
    "---"
   ]
  },
  {
   "cell_type": "code",
   "execution_count": 2,
   "id": "e527706a",
   "metadata": {
    "tags": []
   },
   "outputs": [],
   "source": [
    "# 📌 Notwendige Bibliotheken importieren\n",
    "import numpy as np\n",
    "import matplotlib.pyplot as plt\n",
    "from scipy.stats import norm\n",
    "import ipywidgets as widgets\n",
    "from IPython.display import display\n"
   ]
  },
  {
   "cell_type": "markdown",
   "id": "e28ec8fa",
   "metadata": {
    "tags": []
   },
   "source": [
    "## 🔧 Interaktive Steuerelemente\n",
    "Die folgenden Schieberegler und Auswahlfelder ermöglichen die Steuerung der Simulation:\n"
   ]
  },
  {
   "cell_type": "code",
   "execution_count": 15,
   "id": "6b854fd4",
   "metadata": {},
   "outputs": [],
   "source": [
    "# 📊 Schieberegler für die Parameter der Simulation\n",
    "n_slider = widgets.IntSlider(min=10, max=500,\n",
    "                             step=10, value=50,\n",
    "                             description='n:')\n",
    "p_slider = widgets.FloatSlider(min=0.1, max=0.9, \n",
    "                               step=0.05, value=0.6,\n",
    "                               description='p:')\n",
    "num_simulations_slider = widgets.IntSlider(min=10, max=500, \n",
    "                                           step=10, value=100,\n",
    "                                           description='Anzahl:')\n",
    "confidence_slider = widgets.FloatSlider(min=0.8, max=0.99, \n",
    "                                        step=0.01, value=0.95,\n",
    "                                        description='CI-Level:')\n",
    "method_dropdown = widgets.Dropdown(options=['WALD', 'WILSON'],\n",
    "                                   value='WALD',\n",
    "                                   description='Methode:')\n",
    "show_pi_intervalls = widgets.Checkbox(value=True, \n",
    "                                      description='PI von p zeigen')"
   ]
  },
  {
   "cell_type": "markdown",
   "id": "1276932a",
   "metadata": {},
   "source": [
    "## 🏗 Simulation einfügen\n",
    "Hier fügen Sie Ihre eigene Simulation ein. Standardmäßig ist eine Simulation von **Konfidenzintervallen** enthalten.\n"
   ]
  },
  {
   "cell_type": "code",
   "execution_count": 32,
   "id": "f4dfe752",
   "metadata": {},
   "outputs": [],
   "source": [
    "# Funktion zur Berechnung des WALD-Konfidenzintervalls\n",
    "def wald_ci(p_hat, n, z):\n",
    "    se = np.sqrt(p_hat * (1 - p_hat) / n)\n",
    "    ci_lower = p_hat - z * se\n",
    "    ci_upper = p_hat + z * se\n",
    "    return ci_lower, ci_upper\n",
    "\n",
    "# Funktion zur Berechnung des WILSON-Konfidenzintervalls\n",
    "def wilson_ci(p_hat, n, z):\n",
    "    denominator = 1 + z**2 / n\n",
    "    center = (p_hat + (z**2 / (2 * n))) / denominator\n",
    "    margin = (z / denominator) * np.sqrt((p_hat * (1 - p_hat) / n) + (z**2 / (4 * n**2)))\n",
    "    ci_lower = center - margin\n",
    "    ci_upper = center + margin\n",
    "    return ci_lower, ci_upper\n",
    "\n",
    "\n",
    "def simulate(n, p, num_simulations, confidence, method, show_pi):\n",
    "    z = norm.ppf(1 - (1 - confidence) / 2)\n",
    "    miss_count = 0\n",
    "    \n",
    "    plt.figure(figsize=(8, 10))\n",
    "    \n",
    "    for i in range(num_simulations):\n",
    "        sample = np.random.binomial(n, p) / n\n",
    "        \n",
    "        # Berechnung der Konfidenzintervalle über die definierten Funktionen\n",
    "        if method == 'WALD':\n",
    "            ci_lower, ci_upper = wald_ci(sample, n, z)\n",
    "        else:\n",
    "            ci_lower, ci_upper = wilson_ci(sample, n, z)\n",
    "        \n",
    "        # Bestimmen der Farbe\n",
    "        color = 'blue' if ci_lower <= p <= ci_upper else 'red'\n",
    "        if color == 'red':\n",
    "            miss_count += 1\n",
    "        \n",
    "        # Zeichne das Intervall\n",
    "        plt.plot([ci_lower, ci_upper], [i, i], color=color, lw=2)\n",
    "        \n",
    "        # Punkt h und PI-Grenzen anzeigen (falls ausgewählt)\n",
    "        if show_pi:\n",
    "            plt.plot(sample, i, 'ko', markersize=4)\n",
    "    \n",
    "    # Wahre Parametergrenzen\n",
    "    plt.axvline(p, color='black', linestyle='--', label='Wahrer Parameter')\n",
    "    if show_pi:\n",
    "        se_p = np.sqrt(p * (1 - p) / n)\n",
    "        prog_lower, prog_upper = p - z * se_p, p + z * se_p\n",
    "        plt.axvline(prog_lower, color='gray', linestyle='dotted',\n",
    "                    label='Prognose-Intervall')\n",
    "        plt.axvline(prog_upper, color='gray', linestyle='dotted')\n",
    "    \n",
    "    plt.title(f'Simulation von {num_simulations} Konfidenzintervallen \\\n",
    "                ({method}-Methode)\\nFehlerrate: {miss_count}/{num_simulations} \\\n",
    "                ({(miss_count/num_simulations)*100:.2f}%)')\n",
    "    plt.xlabel('p',fontsize=16)\n",
    "    plt.ylabel('Simulationen',fontsize=16)\n",
    "    plt.legend()\n",
    "    plt.xlim(0,1) # damit kann man Abhängigkeiten besser erkennen\n",
    "    plt.show()"
   ]
  },
  {
   "cell_type": "markdown",
   "id": "9393be43",
   "metadata": {},
   "source": [
    "## 🎛 Steuerung der Simulation\n",
    "Hier wird die Simulation mit den interaktiven Elementen verbunden.\n"
   ]
  },
  {
   "cell_type": "code",
   "execution_count": 34,
   "id": "983f6fea",
   "metadata": {},
   "outputs": [
    {
     "data": {
      "application/vnd.jupyter.widget-view+json": {
       "model_id": "b5a39e49bef1465aa205858792143d91",
       "version_major": 2,
       "version_minor": 0
      },
      "text/plain": [
       "VBox(children=(IntSlider(value=80, description='n:', max=500, min=10, step=10), FloatSlider(value=0.6, descrip…"
      ]
     },
     "metadata": {},
     "output_type": "display_data"
    },
    {
     "data": {
      "application/vnd.jupyter.widget-view+json": {
       "model_id": "fd1f027ac07c4021a9734632ee1dd0e9",
       "version_major": 2,
       "version_minor": 0
      },
      "text/plain": [
       "Output()"
      ]
     },
     "metadata": {},
     "output_type": "display_data"
    }
   ],
   "source": [
    "# Button zur Aktualisierung der Simulation\n",
    "button = widgets.Button(description='Neue Simulation')\n",
    "output = widgets.Output()\n",
    "\n",
    "def on_button_clicked(b):\n",
    "    with output:\n",
    "        output.clear_output(wait=True)\n",
    "        simulate(n_slider.value, p_slider.value, \n",
    "                 num_simulations_slider.value, confidence_slider.value,\n",
    "                 method_dropdown.value, show_pi_intervalls.value)\n",
    "\n",
    "button.on_click(on_button_clicked)\n",
    "\n",
    "# Anzeige der Steuerelemente und erste Simulation starten\n",
    "ui = widgets.VBox([n_slider, p_slider, \n",
    "                   num_simulations_slider, confidence_slider,\n",
    "                   method_dropdown, show_pi_intervalls, button])\n",
    "display(ui, output)\n",
    "\n",
    "# Starte die erste Simulation automatisch\n",
    "on_button_clicked(None)"
   ]
  }
 ],
 "metadata": {
  "kernelspec": {
   "display_name": "Python 3 (ipykernel)",
   "language": "python",
   "name": "python3"
  },
  "language_info": {
   "codemirror_mode": {
    "name": "ipython",
    "version": 3
   },
   "file_extension": ".py",
   "mimetype": "text/x-python",
   "name": "python",
   "nbconvert_exporter": "python",
   "pygments_lexer": "ipython3",
   "version": "3.9.7"
  }
 },
 "nbformat": 4,
 "nbformat_minor": 5
}
